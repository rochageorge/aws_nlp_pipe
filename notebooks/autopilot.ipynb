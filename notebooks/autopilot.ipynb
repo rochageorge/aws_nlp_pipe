{
 "cells": [
  {
   "cell_type": "code",
   "execution_count": 2,
   "metadata": {},
   "outputs": [
    {
     "name": "stdout",
     "output_type": "stream",
     "text": [
      "/opt/conda/lib/python3.7/site-packages/secretstorage/dhcrypto.py:16: CryptographyDeprecationWarning: int_from_bytes is deprecated, use int.from_bytes instead\n",
      "  from cryptography.utils import int_from_bytes\n",
      "/opt/conda/lib/python3.7/site-packages/secretstorage/util.py:25: CryptographyDeprecationWarning: int_from_bytes is deprecated, use int.from_bytes instead\n",
      "  from cryptography.utils import int_from_bytes\n",
      "\u001b[33mWARNING: Running pip as the 'root' user can result in broken permissions and conflicting behaviour with the system package manager. It is recommended to use a virtual environment instead: https://pip.pypa.io/warnings/venv\u001b[0m\n"
     ]
    }
   ],
   "source": [
    "# please ignore warning messages during the installation\n",
    "!pip install --disable-pip-version-check -q sagemaker==2.35.0"
   ]
  },
  {
   "cell_type": "code",
   "execution_count": 89,
   "metadata": {},
   "outputs": [],
   "source": [
    "import boto3\n",
    "import sagemaker\n",
    "import pandas as pd\n",
    "import numpy as np\n",
    "import botocore\n",
    "import time\n",
    "import json\n",
    "\n",
    "import matplotlib.pyplot as plt\n",
    "%matplotlib inline\n",
    "%config InlineBackend.figure_format='retina'\n"
   ]
  },
  {
   "cell_type": "code",
   "execution_count": 3,
   "metadata": {},
   "outputs": [],
   "source": [
    "user = 'AmazonSageMaker-ExecutionRole'\n",
    "config = botocore.config.Config(user_agent_extra = user)\n",
    "\n",
    "sm = boto3.client(service_name='sagemaker', \n",
    "                  config=config)\n",
    "\n",
    "sm_runtime = boto3.client('sagemaker-runtime',\n",
    "                          config=config)\n",
    "\n",
    "sess = sagemaker.Session(sagemaker_client=sm,\n",
    "                         sagemaker_runtime_client=sm_runtime)\n",
    "\n",
    "bucket = 'b13742'\n",
    "role = sagemaker.get_execution_role()\n",
    "region = sess.boto_region_name"
   ]
  },
  {
   "cell_type": "markdown",
   "metadata": {},
   "source": [
    "The data doesn't need to be balanced before, autopilot does it."
   ]
  },
  {
   "cell_type": "code",
   "execution_count": 90,
   "metadata": {},
   "outputs": [
    {
     "name": "stdout",
     "output_type": "stream",
     "text": [
      "2022-02-26 23:24:47     154952 womens_clothing_ecommerce_reviews_balanced.csv\n"
     ]
    }
   ],
   "source": [
    "!aws s3 ls b13742/bias/balanced/womens_clothing_ecommerce_reviews_balanced.csv"
   ]
  },
  {
   "cell_type": "code",
   "execution_count": 96,
   "metadata": {},
   "outputs": [
    {
     "name": "stdout",
     "output_type": "stream",
     "text": [
      "download: s3://b13742/bias/balanced/womens_clothing_ecommerce_reviews_balanced.csv to ./womens_clothing_ecommerce_reviews_balanced.csv\n"
     ]
    }
   ],
   "source": [
    "!aws s3 cp s3://$bucket/bias/balanced/womens_clothing_ecommerce_reviews_balanced.csv ./"
   ]
  },
  {
   "cell_type": "code",
   "execution_count": 94,
   "metadata": {},
   "outputs": [
    {
     "data": {
      "text/html": [
       "<div>\n",
       "<style scoped>\n",
       "    .dataframe tbody tr th:only-of-type {\n",
       "        vertical-align: middle;\n",
       "    }\n",
       "\n",
       "    .dataframe tbody tr th {\n",
       "        vertical-align: top;\n",
       "    }\n",
       "\n",
       "    .dataframe thead th {\n",
       "        text-align: right;\n",
       "    }\n",
       "</style>\n",
       "<table border=\"1\" class=\"dataframe\">\n",
       "  <thead>\n",
       "    <tr style=\"text-align: right;\">\n",
       "      <th></th>\n",
       "      <th>sentiment</th>\n",
       "      <th>review_body</th>\n",
       "      <th>product_category</th>\n",
       "    </tr>\n",
       "  </thead>\n",
       "  <tbody>\n",
       "    <tr>\n",
       "      <th>0</th>\n",
       "      <td>-1</td>\n",
       "      <td>This suit did nothing for me. the top has zero...</td>\n",
       "      <td>Swim</td>\n",
       "    </tr>\n",
       "    <tr>\n",
       "      <th>1</th>\n",
       "      <td>-1</td>\n",
       "      <td>Like other reviewers  i saw this dress on the ...</td>\n",
       "      <td>Dresses</td>\n",
       "    </tr>\n",
       "    <tr>\n",
       "      <th>2</th>\n",
       "      <td>-1</td>\n",
       "      <td>I wish i had read the reviews before purchasin...</td>\n",
       "      <td>Knits</td>\n",
       "    </tr>\n",
       "    <tr>\n",
       "      <th>3</th>\n",
       "      <td>-1</td>\n",
       "      <td>I ordered these pants in my usual size (xl) an...</td>\n",
       "      <td>Legwear</td>\n",
       "    </tr>\n",
       "    <tr>\n",
       "      <th>4</th>\n",
       "      <td>-1</td>\n",
       "      <td>I noticed this top on one of the sales associa...</td>\n",
       "      <td>Knits</td>\n",
       "    </tr>\n",
       "  </tbody>\n",
       "</table>\n",
       "</div>"
      ],
      "text/plain": [
       "   sentiment                                        review_body  \\\n",
       "0         -1  This suit did nothing for me. the top has zero...   \n",
       "1         -1  Like other reviewers  i saw this dress on the ...   \n",
       "2         -1  I wish i had read the reviews before purchasin...   \n",
       "3         -1  I ordered these pants in my usual size (xl) an...   \n",
       "4         -1  I noticed this top on one of the sales associa...   \n",
       "\n",
       "  product_category  \n",
       "0             Swim  \n",
       "1          Dresses  \n",
       "2            Knits  \n",
       "3          Legwear  \n",
       "4            Knits  "
      ]
     },
     "execution_count": 94,
     "metadata": {},
     "output_type": "execute_result"
    }
   ],
   "source": [
    "path = './womens_clothing_ecommerce_reviews_balanced.csv'\n",
    "\n",
    "df = pd.read_csv(path, delimiter=',')\n",
    "df.head()"
   ]
  },
  {
   "cell_type": "code",
   "execution_count": 7,
   "metadata": {},
   "outputs": [],
   "source": [
    "path_autopilot = './womens_clothing_ecommerce_reviews_balanced_for_autopilot.csv'\n",
    "\n",
    "df[['sentiment', 'review_body']].to_csv(path_autopilot, \n",
    "                                        sep=',', \n",
    "                                        index=False)"
   ]
  },
  {
   "cell_type": "code",
   "execution_count": 8,
   "metadata": {},
   "outputs": [
    {
     "data": {
      "text/plain": [
       "'s3://sagemaker-sa-east-1-164157948422/autopilot/data/womens_clothing_ecommerce_reviews_balanced_for_autopilot.csv'"
      ]
     },
     "execution_count": 8,
     "metadata": {},
     "output_type": "execute_result"
    }
   ],
   "source": [
    "autopilot_train_s3_uri = sess.upload_data(bucket=bucket, key_prefix='autopilot/data', path=path_autopilot)\n",
    "autopilot_train_s3_uri"
   ]
  },
  {
   "cell_type": "code",
   "execution_count": 9,
   "metadata": {},
   "outputs": [
    {
     "name": "stdout",
     "output_type": "stream",
     "text": [
      "2022-02-27 00:33:03    2253749 womens_clothing_ecommerce_reviews_balanced_for_autopilot.csv\n"
     ]
    }
   ],
   "source": [
    "!aws s3 ls $autopilot_train_s3_uri"
   ]
  },
  {
   "cell_type": "code",
   "execution_count": 10,
   "metadata": {},
   "outputs": [
    {
     "name": "stdout",
     "output_type": "stream",
     "text": [
      "s3://sagemaker-sa-east-1-164157948422/autopilot\n"
     ]
    }
   ],
   "source": [
    "model_output_s3_uri = 's3://{}/autopilot'.format(bucket)\n",
    "\n",
    "print(model_output_s3_uri)"
   ]
  },
  {
   "cell_type": "code",
   "execution_count": 11,
   "metadata": {},
   "outputs": [],
   "source": [
    "timestamp = int(time.time())\n",
    "\n",
    "auto_ml_job_name = 'automl-dm-{}'.format(timestamp)"
   ]
  },
  {
   "cell_type": "code",
   "execution_count": 12,
   "metadata": {},
   "outputs": [],
   "source": [
    "max_candidates = 3\n",
    "\n",
    "automl = sagemaker.automl.automl.AutoML(\n",
    "    target_attribute_name = 'sentiment', \n",
    "    base_job_name = auto_ml_job_name, \n",
    "    output_path = model_output_s3_uri, \n",
    "    max_candidates = max_candidates,\n",
    "    sagemaker_session = sess,\n",
    "    role = role,\n",
    "    max_runtime_per_training_job_in_seconds = 1200,\n",
    "    total_job_runtime_in_seconds = 7200\n",
    ")"
   ]
  },
  {
   "cell_type": "code",
   "execution_count": 13,
   "metadata": {},
   "outputs": [],
   "source": [
    "automl.fit(\n",
    "    autopilot_train_s3_uri,\n",
    "    job_name = auto_ml_job_name, \n",
    "    wait = False, \n",
    "    logs = False\n",
    ")"
   ]
  },
  {
   "cell_type": "code",
   "execution_count": 14,
   "metadata": {},
   "outputs": [],
   "source": [
    "job_description_response = automl.describe_auto_ml_job(job_name=auto_ml_job_name)"
   ]
  },
  {
   "cell_type": "code",
   "execution_count": 15,
   "metadata": {},
   "outputs": [
    {
     "name": "stdout",
     "output_type": "stream",
     "text": [
      "[OK] AutoML job started.\n"
     ]
    }
   ],
   "source": [
    "while 'AutoMLJobStatus' not in job_description_response.keys() and 'AutoMLJobSecondaryStatus' not in job_description_response.keys():\n",
    "    job_description_response = automl.describe_auto_ml_job(job_name=auto_ml_job_name)\n",
    "    print('[INFO] Autopilot job has not yet started. Please wait. ')\n",
    "    # function `json.dumps` encodes JSON string for printing.\n",
    "    print(json.dumps(job_description_response, indent=4, sort_keys=True, default=str))\n",
    "    print('[INFO] Waiting for Autopilot job to start...')\n",
    "    sleep(15)\n",
    "\n",
    "print('[OK] AutoML job started.')"
   ]
  },
  {
   "cell_type": "code",
   "execution_count": 17,
   "metadata": {
    "scrolled": true
   },
   "outputs": [
    {
     "name": "stdout",
     "output_type": "stream",
     "text": [
      "InProgress Starting\n",
      "InProgress AnalyzingData\n",
      "InProgress AnalyzingData\n",
      "InProgress AnalyzingData\n",
      "InProgress AnalyzingData\n",
      "InProgress AnalyzingData\n",
      "InProgress AnalyzingData\n",
      "InProgress AnalyzingData\n",
      "InProgress AnalyzingData\n",
      "InProgress AnalyzingData\n",
      "InProgress AnalyzingData\n",
      "InProgress AnalyzingData\n",
      "InProgress AnalyzingData\n",
      "InProgress AnalyzingData\n",
      "InProgress AnalyzingData\n",
      "InProgress AnalyzingData\n",
      "InProgress AnalyzingData\n",
      "InProgress AnalyzingData\n",
      "InProgress AnalyzingData\n",
      "InProgress AnalyzingData\n",
      "InProgress AnalyzingData\n",
      "InProgress AnalyzingData\n",
      "InProgress AnalyzingData\n",
      "InProgress AnalyzingData\n",
      "InProgress AnalyzingData\n",
      "InProgress AnalyzingData\n",
      "InProgress AnalyzingData\n",
      "InProgress AnalyzingData\n",
      "InProgress AnalyzingData\n",
      "InProgress AnalyzingData\n",
      "InProgress AnalyzingData\n",
      "InProgress AnalyzingData\n",
      "InProgress AnalyzingData\n",
      "InProgress AnalyzingData\n",
      "InProgress AnalyzingData\n",
      "InProgress AnalyzingData\n",
      "InProgress AnalyzingData\n",
      "InProgress AnalyzingData\n",
      "InProgress AnalyzingData\n",
      "InProgress AnalyzingData\n",
      "InProgress AnalyzingData\n",
      "InProgress AnalyzingData\n",
      "InProgress FeatureEngineering\n",
      "[OK] Data analysis phase completed.\n",
      "\n",
      "{\n",
      "    \"AutoMLJobArn\": \"arn:aws:sagemaker:sa-east-1:164157948422:automl-job/automl-dm-1645921983\",\n",
      "    \"AutoMLJobArtifacts\": {\n",
      "        \"CandidateDefinitionNotebookLocation\": \"s3://sagemaker-sa-east-1-164157948422/autopilot/automl-dm-1645921983/sagemaker-automl-candidates/automl-dm-1645921983-pr-1-96dc750ff4b94886802a98b4a71aa3f6eb70a/notebooks/SageMakerAutopilotCandidateDefinitionNotebook.ipynb\",\n",
      "        \"DataExplorationNotebookLocation\": \"s3://sagemaker-sa-east-1-164157948422/autopilot/automl-dm-1645921983/sagemaker-automl-candidates/automl-dm-1645921983-pr-1-96dc750ff4b94886802a98b4a71aa3f6eb70a/notebooks/SageMakerAutopilotDataExplorationNotebook.ipynb\"\n",
      "    },\n",
      "    \"AutoMLJobConfig\": {\n",
      "        \"CompletionCriteria\": {\n",
      "            \"MaxAutoMLJobRuntimeInSeconds\": 7200,\n",
      "            \"MaxCandidates\": 3,\n",
      "            \"MaxRuntimePerTrainingJobInSeconds\": 1200\n",
      "        },\n",
      "        \"SecurityConfig\": {\n",
      "            \"EnableInterContainerTrafficEncryption\": false\n",
      "        }\n",
      "    },\n",
      "    \"AutoMLJobName\": \"automl-dm-1645921983\",\n",
      "    \"AutoMLJobSecondaryStatus\": \"FeatureEngineering\",\n",
      "    \"AutoMLJobStatus\": \"InProgress\",\n",
      "    \"CreationTime\": \"2022-02-27 00:33:03.395000+00:00\",\n",
      "    \"GenerateCandidateDefinitionsOnly\": false,\n",
      "    \"InputDataConfig\": [\n",
      "        {\n",
      "            \"DataSource\": {\n",
      "                \"S3DataSource\": {\n",
      "                    \"S3DataType\": \"S3Prefix\",\n",
      "                    \"S3Uri\": \"s3://sagemaker-sa-east-1-164157948422/autopilot/data/womens_clothing_ecommerce_reviews_balanced_for_autopilot.csv\"\n",
      "                }\n",
      "            },\n",
      "            \"TargetAttributeName\": \"sentiment\"\n",
      "        }\n",
      "    ],\n",
      "    \"LastModifiedTime\": \"2022-02-27 00:43:35.637000+00:00\",\n",
      "    \"OutputDataConfig\": {\n",
      "        \"S3OutputPath\": \"s3://sagemaker-sa-east-1-164157948422/autopilot\"\n",
      "    },\n",
      "    \"ResolvedAttributes\": {\n",
      "        \"AutoMLJobObjective\": {\n",
      "            \"MetricName\": \"Accuracy\"\n",
      "        },\n",
      "        \"CompletionCriteria\": {\n",
      "            \"MaxAutoMLJobRuntimeInSeconds\": 7200,\n",
      "            \"MaxCandidates\": 3,\n",
      "            \"MaxRuntimePerTrainingJobInSeconds\": 1200\n",
      "        },\n",
      "        \"ProblemType\": \"MulticlassClassification\"\n",
      "    },\n",
      "    \"ResponseMetadata\": {\n",
      "        \"HTTPHeaders\": {\n",
      "            \"content-length\": \"1755\",\n",
      "            \"content-type\": \"application/x-amz-json-1.1\",\n",
      "            \"date\": \"Sun, 27 Feb 2022 00:43:37 GMT\",\n",
      "            \"x-amzn-requestid\": \"9602e329-bcf4-4af7-baea-66dd199f498e\"\n",
      "        },\n",
      "        \"HTTPStatusCode\": 200,\n",
      "        \"RequestId\": \"9602e329-bcf4-4af7-baea-66dd199f498e\",\n",
      "        \"RetryAttempts\": 0\n",
      "    },\n",
      "    \"RoleArn\": \"arn:aws:iam::164157948422:role/service-role/AmazonSageMaker-ExecutionRole-20220225T233545\"\n",
      "}\n",
      "CPU times: user 488 ms, sys: 55.7 ms, total: 543 ms\n",
      "Wall time: 10min 48s\n"
     ]
    }
   ],
   "source": [
    "%%time\n",
    "\n",
    "job_status = job_description_response['AutoMLJobStatus']\n",
    "job_sec_status = job_description_response['AutoMLJobSecondaryStatus']\n",
    "\n",
    "if job_status not in ('Stopped', 'Failed'):\n",
    "    while job_status in ('InProgress') and job_sec_status in ('Starting', 'AnalyzingData'):\n",
    "        job_description_response = automl.describe_auto_ml_job(job_name=auto_ml_job_name)\n",
    "        job_status = job_description_response['AutoMLJobStatus']\n",
    "        job_sec_status = job_description_response['AutoMLJobSecondaryStatus']\n",
    "        print(job_status, job_sec_status)\n",
    "        time.sleep(15)\n",
    "    print('[OK] Data analysis phase completed.\\n')\n",
    "    \n",
    "print(json.dumps(job_description_response, indent=4, sort_keys=True, default=str))"
   ]
  },
  {
   "cell_type": "code",
   "execution_count": 99,
   "metadata": {},
   "outputs": [],
   "source": [
    "# job_description_response"
   ]
  },
  {
   "cell_type": "code",
   "execution_count": 19,
   "metadata": {},
   "outputs": [
    {
     "name": "stdout",
     "output_type": "stream",
     "text": [
      "[OK] AutoMLJobArtifacts generated.\n"
     ]
    }
   ],
   "source": [
    "while 'AutoMLJobArtifacts' not in job_description_response.keys():\n",
    "    job_description_response = automl.describe_auto_ml_job(job_name=auto_ml_job_name)\n",
    "    print('[INFO] Autopilot job has not yet generated the artifacts. Please wait. ')\n",
    "    print(json.dumps(job_description_response, indent=4, sort_keys=True, default=str))\n",
    "    print('[INFO] Waiting for AutoMLJobArtifacts...')\n",
    "    time.sleep(15)\n",
    "\n",
    "print('[OK] AutoMLJobArtifacts generated.')"
   ]
  },
  {
   "cell_type": "code",
   "execution_count": 20,
   "metadata": {},
   "outputs": [
    {
     "data": {
      "text/plain": [
       "{'CandidateDefinitionNotebookLocation': 's3://sagemaker-sa-east-1-164157948422/autopilot/automl-dm-1645921983/sagemaker-automl-candidates/automl-dm-1645921983-pr-1-96dc750ff4b94886802a98b4a71aa3f6eb70a/notebooks/SageMakerAutopilotCandidateDefinitionNotebook.ipynb',\n",
       " 'DataExplorationNotebookLocation': 's3://sagemaker-sa-east-1-164157948422/autopilot/automl-dm-1645921983/sagemaker-automl-candidates/automl-dm-1645921983-pr-1-96dc750ff4b94886802a98b4a71aa3f6eb70a/notebooks/SageMakerAutopilotDataExplorationNotebook.ipynb'}"
      ]
     },
     "execution_count": 20,
     "metadata": {},
     "output_type": "execute_result"
    }
   ],
   "source": [
    "job_description_response['AutoMLJobArtifacts']"
   ]
  },
  {
   "cell_type": "code",
   "execution_count": 21,
   "metadata": {},
   "outputs": [
    {
     "name": "stdout",
     "output_type": "stream",
     "text": [
      "[OK] DataExplorationNotebookLocation found.\n"
     ]
    }
   ],
   "source": [
    "while 'DataExplorationNotebookLocation' not in job_description_response['AutoMLJobArtifacts']:\n",
    "    job_description_response = automl.describe_auto_ml_job(job_name=auto_ml_job_name) \n",
    "    print('[INFO] Autopilot job has not yet generated the notebooks. Please wait. ')\n",
    "    print(json.dumps(job_description_response, indent=4, sort_keys=True, default=str))\n",
    "    print('[INFO] Waiting for DataExplorationNotebookLocation...')\n",
    "    time.sleep(15)\n",
    "\n",
    "print('[OK] DataExplorationNotebookLocation found.')   "
   ]
  },
  {
   "cell_type": "code",
   "execution_count": 22,
   "metadata": {},
   "outputs": [
    {
     "data": {
      "text/html": [
       "<b>Review <a target=\"blank\" href=\"https://s3.console.aws.amazon.com/s3/buckets/sagemaker-sa-east-1-164157948422/autopilot/automl-dm-1645921983/sagemaker-automl-candidates/automl-dm-1645921983-pr-1-96dc750ff4b94886802a98b4a71aa3f6eb70a/\">generated notebooks</a> in S3 bucket</b>"
      ],
      "text/plain": [
       "<IPython.core.display.HTML object>"
      ]
     },
     "metadata": {},
     "output_type": "display_data"
    }
   ],
   "source": [
    "from IPython.core.display import display, HTML\n",
    "\n",
    "generated_resources = job_description_response['AutoMLJobArtifacts']['DataExplorationNotebookLocation']\n",
    "download_path = generated_resources.rsplit('/notebooks/SageMakerAutopilotDataExplorationNotebook.ipynb')[0]\n",
    "job_id = download_path.rsplit('/', 1)[-1]\n",
    "\n",
    "if not job_id: \n",
    "    print('No AutoMLJobArtifacts found.')\n",
    "else: \n",
    "    display(HTML('<b>Review <a target=\"blank\" href=\"https://s3.console.aws.amazon.com/s3/buckets/{}/autopilot/{}/sagemaker-automl-candidates/{}/\">generated notebooks</a> in S3 bucket</b>'.format(bucket, auto_ml_job_name, job_id)))"
   ]
  },
  {
   "cell_type": "code",
   "execution_count": 23,
   "metadata": {
    "scrolled": true
   },
   "outputs": [
    {
     "name": "stdout",
     "output_type": "stream",
     "text": [
      "InProgress\n",
      "FeatureEngineering\n",
      "InProgress FeatureEngineering\n",
      "InProgress FeatureEngineering\n",
      "InProgress FeatureEngineering\n",
      "InProgress FeatureEngineering\n",
      "InProgress FeatureEngineering\n",
      "InProgress FeatureEngineering\n",
      "InProgress FeatureEngineering\n",
      "InProgress FeatureEngineering\n",
      "InProgress FeatureEngineering\n",
      "InProgress FeatureEngineering\n",
      "InProgress FeatureEngineering\n",
      "InProgress FeatureEngineering\n",
      "InProgress FeatureEngineering\n",
      "InProgress FeatureEngineering\n",
      "InProgress FeatureEngineering\n",
      "InProgress FeatureEngineering\n",
      "InProgress FeatureEngineering\n",
      "InProgress FeatureEngineering\n",
      "InProgress FeatureEngineering\n",
      "InProgress FeatureEngineering\n",
      "InProgress FeatureEngineering\n",
      "InProgress FeatureEngineering\n",
      "InProgress FeatureEngineering\n",
      "InProgress FeatureEngineering\n",
      "InProgress FeatureEngineering\n",
      "InProgress FeatureEngineering\n",
      "InProgress FeatureEngineering\n",
      "InProgress FeatureEngineering\n",
      "InProgress FeatureEngineering\n",
      "InProgress FeatureEngineering\n",
      "InProgress FeatureEngineering\n",
      "InProgress FeatureEngineering\n",
      "InProgress FeatureEngineering\n",
      "InProgress FeatureEngineering\n",
      "InProgress FeatureEngineering\n",
      "InProgress FeatureEngineering\n",
      "InProgress FeatureEngineering\n",
      "InProgress FeatureEngineering\n",
      "InProgress FeatureEngineering\n",
      "InProgress FeatureEngineering\n",
      "InProgress FeatureEngineering\n",
      "InProgress FeatureEngineering\n",
      "InProgress FeatureEngineering\n",
      "InProgress FeatureEngineering\n",
      "InProgress FeatureEngineering\n",
      "InProgress FeatureEngineering\n",
      "InProgress FeatureEngineering\n",
      "InProgress FeatureEngineering\n",
      "InProgress FeatureEngineering\n",
      "InProgress FeatureEngineering\n",
      "InProgress FeatureEngineering\n",
      "InProgress FeatureEngineering\n",
      "InProgress FeatureEngineering\n",
      "InProgress FeatureEngineering\n",
      "InProgress FeatureEngineering\n",
      "InProgress FeatureEngineering\n",
      "InProgress FeatureEngineering\n",
      "InProgress FeatureEngineering\n",
      "InProgress FeatureEngineering\n",
      "InProgress FeatureEngineering\n",
      "InProgress FeatureEngineering\n",
      "InProgress FeatureEngineering\n",
      "InProgress FeatureEngineering\n",
      "InProgress FeatureEngineering\n",
      "InProgress FeatureEngineering\n",
      "InProgress FeatureEngineering\n",
      "InProgress FeatureEngineering\n",
      "InProgress FeatureEngineering\n",
      "InProgress FeatureEngineering\n",
      "InProgress FeatureEngineering\n",
      "InProgress FeatureEngineering\n",
      "InProgress FeatureEngineering\n",
      "InProgress FeatureEngineering\n",
      "InProgress FeatureEngineering\n",
      "InProgress FeatureEngineering\n",
      "InProgress FeatureEngineering\n",
      "InProgress FeatureEngineering\n",
      "InProgress FeatureEngineering\n",
      "InProgress FeatureEngineering\n",
      "InProgress FeatureEngineering\n",
      "InProgress FeatureEngineering\n",
      "InProgress FeatureEngineering\n",
      "InProgress FeatureEngineering\n",
      "InProgress FeatureEngineering\n",
      "InProgress FeatureEngineering\n",
      "InProgress FeatureEngineering\n",
      "InProgress FeatureEngineering\n",
      "InProgress FeatureEngineering\n",
      "InProgress FeatureEngineering\n",
      "InProgress FeatureEngineering\n",
      "InProgress FeatureEngineering\n",
      "InProgress FeatureEngineering\n",
      "InProgress FeatureEngineering\n",
      "InProgress FeatureEngineering\n",
      "InProgress FeatureEngineering\n",
      "InProgress FeatureEngineering\n",
      "InProgress FeatureEngineering\n",
      "InProgress FeatureEngineering\n",
      "InProgress FeatureEngineering\n",
      "InProgress FeatureEngineering\n",
      "InProgress FeatureEngineering\n",
      "InProgress FeatureEngineering\n",
      "InProgress FeatureEngineering\n",
      "InProgress FeatureEngineering\n",
      "InProgress FeatureEngineering\n",
      "InProgress FeatureEngineering\n",
      "InProgress FeatureEngineering\n",
      "InProgress FeatureEngineering\n",
      "InProgress FeatureEngineering\n",
      "InProgress FeatureEngineering\n",
      "InProgress ModelTuning\n",
      "[OK] Feature engineering phase completed.\n",
      "\n",
      "{\n",
      "    \"AutoMLJobArn\": \"arn:aws:sagemaker:sa-east-1:164157948422:automl-job/automl-dm-1645921983\",\n",
      "    \"AutoMLJobArtifacts\": {\n",
      "        \"CandidateDefinitionNotebookLocation\": \"s3://sagemaker-sa-east-1-164157948422/autopilot/automl-dm-1645921983/sagemaker-automl-candidates/automl-dm-1645921983-pr-1-96dc750ff4b94886802a98b4a71aa3f6eb70a/notebooks/SageMakerAutopilotCandidateDefinitionNotebook.ipynb\",\n",
      "        \"DataExplorationNotebookLocation\": \"s3://sagemaker-sa-east-1-164157948422/autopilot/automl-dm-1645921983/sagemaker-automl-candidates/automl-dm-1645921983-pr-1-96dc750ff4b94886802a98b4a71aa3f6eb70a/notebooks/SageMakerAutopilotDataExplorationNotebook.ipynb\"\n",
      "    },\n",
      "    \"AutoMLJobConfig\": {\n",
      "        \"CompletionCriteria\": {\n",
      "            \"MaxAutoMLJobRuntimeInSeconds\": 7200,\n",
      "            \"MaxCandidates\": 3,\n",
      "            \"MaxRuntimePerTrainingJobInSeconds\": 1200\n",
      "        },\n",
      "        \"SecurityConfig\": {\n",
      "            \"EnableInterContainerTrafficEncryption\": false\n",
      "        }\n",
      "    },\n",
      "    \"AutoMLJobName\": \"automl-dm-1645921983\",\n",
      "    \"AutoMLJobSecondaryStatus\": \"ModelTuning\",\n",
      "    \"AutoMLJobStatus\": \"InProgress\",\n",
      "    \"CreationTime\": \"2022-02-27 00:33:03.395000+00:00\",\n",
      "    \"GenerateCandidateDefinitionsOnly\": false,\n",
      "    \"InputDataConfig\": [\n",
      "        {\n",
      "            \"DataSource\": {\n",
      "                \"S3DataSource\": {\n",
      "                    \"S3DataType\": \"S3Prefix\",\n",
      "                    \"S3Uri\": \"s3://sagemaker-sa-east-1-164157948422/autopilot/data/womens_clothing_ecommerce_reviews_balanced_for_autopilot.csv\"\n",
      "                }\n",
      "            },\n",
      "            \"TargetAttributeName\": \"sentiment\"\n",
      "        }\n",
      "    ],\n",
      "    \"LastModifiedTime\": \"2022-02-27 00:53:09.171000+00:00\",\n",
      "    \"OutputDataConfig\": {\n",
      "        \"S3OutputPath\": \"s3://sagemaker-sa-east-1-164157948422/autopilot\"\n",
      "    },\n",
      "    \"ResolvedAttributes\": {\n",
      "        \"AutoMLJobObjective\": {\n",
      "            \"MetricName\": \"Accuracy\"\n",
      "        },\n",
      "        \"CompletionCriteria\": {\n",
      "            \"MaxAutoMLJobRuntimeInSeconds\": 7200,\n",
      "            \"MaxCandidates\": 3,\n",
      "            \"MaxRuntimePerTrainingJobInSeconds\": 1200\n",
      "        },\n",
      "        \"ProblemType\": \"MulticlassClassification\"\n",
      "    },\n",
      "    \"ResponseMetadata\": {\n",
      "        \"HTTPHeaders\": {\n",
      "            \"content-length\": \"1748\",\n",
      "            \"content-type\": \"application/x-amz-json-1.1\",\n",
      "            \"date\": \"Sun, 27 Feb 2022 00:53:09 GMT\",\n",
      "            \"x-amzn-requestid\": \"88d738a5-d160-4200-a060-2a4b8c73b518\"\n",
      "        },\n",
      "        \"HTTPStatusCode\": 200,\n",
      "        \"RequestId\": \"88d738a5-d160-4200-a060-2a4b8c73b518\",\n",
      "        \"RetryAttempts\": 0\n",
      "    },\n",
      "    \"RoleArn\": \"arn:aws:iam::164157948422:role/service-role/AmazonSageMaker-ExecutionRole-20220225T233545\"\n",
      "}\n",
      "CPU times: user 361 ms, sys: 83.8 ms, total: 444 ms\n",
      "Wall time: 9min 20s\n"
     ]
    }
   ],
   "source": [
    "%%time\n",
    "\n",
    "job_description_response = automl.describe_auto_ml_job(job_name=auto_ml_job_name)\n",
    "job_status = job_description_response['AutoMLJobStatus']\n",
    "job_sec_status = job_description_response['AutoMLJobSecondaryStatus']\n",
    "print(job_status)\n",
    "print(job_sec_status)\n",
    "if job_status not in ('Stopped', 'Failed'):\n",
    "    while job_status == 'InProgress' and job_sec_status == 'FeatureEngineering':\n",
    "        job_description_response = automl.describe_auto_ml_job(job_name=auto_ml_job_name)\n",
    "        job_status = job_description_response['AutoMLJobStatus']\n",
    "        job_sec_status = job_description_response['AutoMLJobSecondaryStatus']\n",
    "        print(job_status, job_sec_status)\n",
    "        time.sleep(5)\n",
    "    print('[OK] Feature engineering phase completed.\\n')\n",
    "    \n",
    "print(json.dumps(job_description_response, indent=4, sort_keys=True, default=str))"
   ]
  },
  {
   "cell_type": "code",
   "execution_count": 25,
   "metadata": {
    "scrolled": true
   },
   "outputs": [
    {
     "name": "stdout",
     "output_type": "stream",
     "text": [
      "InProgress\n",
      "ModelTuning\n",
      "InProgress ModelTuning\n",
      "InProgress ModelTuning\n",
      "InProgress ModelTuning\n",
      "InProgress ModelTuning\n",
      "InProgress ModelTuning\n",
      "InProgress ModelTuning\n",
      "InProgress ModelTuning\n",
      "InProgress ModelTuning\n",
      "InProgress ModelTuning\n",
      "InProgress ModelTuning\n",
      "InProgress ModelTuning\n",
      "InProgress ModelTuning\n",
      "InProgress ModelTuning\n",
      "InProgress ModelTuning\n",
      "InProgress ModelTuning\n",
      "InProgress ModelTuning\n",
      "InProgress ModelTuning\n",
      "InProgress ModelTuning\n",
      "InProgress ModelTuning\n",
      "InProgress ModelTuning\n",
      "InProgress ModelTuning\n",
      "InProgress ModelTuning\n",
      "InProgress ModelTuning\n",
      "InProgress ModelTuning\n",
      "InProgress ModelTuning\n",
      "InProgress ModelTuning\n",
      "InProgress ModelTuning\n",
      "InProgress ModelTuning\n",
      "InProgress ModelTuning\n",
      "InProgress ModelTuning\n",
      "InProgress ModelTuning\n",
      "InProgress ModelTuning\n",
      "InProgress ModelTuning\n",
      "InProgress ModelTuning\n",
      "InProgress ModelTuning\n",
      "InProgress ModelTuning\n",
      "InProgress ModelTuning\n",
      "InProgress ModelTuning\n",
      "InProgress ModelTuning\n",
      "InProgress ModelTuning\n",
      "InProgress ModelTuning\n",
      "InProgress ModelTuning\n",
      "InProgress ModelTuning\n",
      "InProgress ModelTuning\n",
      "InProgress ModelTuning\n",
      "InProgress ModelTuning\n",
      "InProgress ModelTuning\n",
      "InProgress ModelTuning\n",
      "InProgress ModelTuning\n",
      "InProgress ModelTuning\n",
      "InProgress ModelTuning\n",
      "InProgress ModelTuning\n",
      "InProgress ModelTuning\n",
      "InProgress ModelTuning\n",
      "InProgress ModelTuning\n",
      "InProgress ModelTuning\n",
      "InProgress ModelTuning\n",
      "InProgress ModelTuning\n",
      "InProgress ModelTuning\n",
      "InProgress ModelTuning\n",
      "InProgress ModelTuning\n",
      "InProgress ModelTuning\n",
      "InProgress ModelTuning\n",
      "InProgress ModelTuning\n",
      "InProgress GeneratingExplainabilityReport\n",
      "[OK] Model tuning phase completed.\n",
      "\n",
      "{\n",
      "    \"AutoMLJobArn\": \"arn:aws:sagemaker:sa-east-1:164157948422:automl-job/automl-dm-1645921983\",\n",
      "    \"AutoMLJobArtifacts\": {\n",
      "        \"CandidateDefinitionNotebookLocation\": \"s3://sagemaker-sa-east-1-164157948422/autopilot/automl-dm-1645921983/sagemaker-automl-candidates/automl-dm-1645921983-pr-1-96dc750ff4b94886802a98b4a71aa3f6eb70a/notebooks/SageMakerAutopilotCandidateDefinitionNotebook.ipynb\",\n",
      "        \"DataExplorationNotebookLocation\": \"s3://sagemaker-sa-east-1-164157948422/autopilot/automl-dm-1645921983/sagemaker-automl-candidates/automl-dm-1645921983-pr-1-96dc750ff4b94886802a98b4a71aa3f6eb70a/notebooks/SageMakerAutopilotDataExplorationNotebook.ipynb\"\n",
      "    },\n",
      "    \"AutoMLJobConfig\": {\n",
      "        \"CompletionCriteria\": {\n",
      "            \"MaxAutoMLJobRuntimeInSeconds\": 7200,\n",
      "            \"MaxCandidates\": 3,\n",
      "            \"MaxRuntimePerTrainingJobInSeconds\": 1200\n",
      "        },\n",
      "        \"SecurityConfig\": {\n",
      "            \"EnableInterContainerTrafficEncryption\": false\n",
      "        }\n",
      "    },\n",
      "    \"AutoMLJobName\": \"automl-dm-1645921983\",\n",
      "    \"AutoMLJobSecondaryStatus\": \"GeneratingExplainabilityReport\",\n",
      "    \"AutoMLJobStatus\": \"InProgress\",\n",
      "    \"BestCandidate\": {\n",
      "        \"CandidateName\": \"automl-dm-1645921983r2bBKJ4tr41U-001-0a05ac3a\",\n",
      "        \"CandidateProperties\": {\n",
      "            \"CandidateMetrics\": [\n",
      "                {\n",
      "                    \"MetricName\": \"Accuracy\",\n",
      "                    \"Set\": \"Validation\",\n",
      "                    \"Value\": 0.589169979095459\n",
      "                },\n",
      "                {\n",
      "                    \"MetricName\": \"F1macro\",\n",
      "                    \"Set\": \"Validation\",\n",
      "                    \"Value\": 0.5858299732208252\n",
      "                }\n",
      "            ]\n",
      "        },\n",
      "        \"CandidateStatus\": \"Completed\",\n",
      "        \"CandidateSteps\": [\n",
      "            {\n",
      "                \"CandidateStepArn\": \"arn:aws:sagemaker:sa-east-1:164157948422:processing-job/automl-dm-1645921983-db-1-6d3b74fad25a4893979d63ccb504e5409e9b1\",\n",
      "                \"CandidateStepName\": \"automl-dm-1645921983-db-1-6d3b74fad25a4893979d63ccb504e5409e9b1\",\n",
      "                \"CandidateStepType\": \"AWS::SageMaker::ProcessingJob\"\n",
      "            },\n",
      "            {\n",
      "                \"CandidateStepArn\": \"arn:aws:sagemaker:sa-east-1:164157948422:training-job/automl-dm-1645921983-dpp0-1-e02d2d1bde284d0a8174e595b9eeb85dd0c\",\n",
      "                \"CandidateStepName\": \"automl-dm-1645921983-dpp0-1-e02d2d1bde284d0a8174e595b9eeb85dd0c\",\n",
      "                \"CandidateStepType\": \"AWS::SageMaker::TrainingJob\"\n",
      "            },\n",
      "            {\n",
      "                \"CandidateStepArn\": \"arn:aws:sagemaker:sa-east-1:164157948422:transform-job/automl-dm-1645921983-dpp0-rpb-1-8757fc2afdb74b6595c973a7a2d9d59\",\n",
      "                \"CandidateStepName\": \"automl-dm-1645921983-dpp0-rpb-1-8757fc2afdb74b6595c973a7a2d9d59\",\n",
      "                \"CandidateStepType\": \"AWS::SageMaker::TransformJob\"\n",
      "            },\n",
      "            {\n",
      "                \"CandidateStepArn\": \"arn:aws:sagemaker:sa-east-1:164157948422:training-job/automl-dm-1645921983r2bbkj4tr41u-001-0a05ac3a\",\n",
      "                \"CandidateStepName\": \"automl-dm-1645921983r2bBKJ4tr41U-001-0a05ac3a\",\n",
      "                \"CandidateStepType\": \"AWS::SageMaker::TrainingJob\"\n",
      "            }\n",
      "        ],\n",
      "        \"CreationTime\": \"2022-02-27 00:55:38+00:00\",\n",
      "        \"EndTime\": \"2022-02-27 00:56:54+00:00\",\n",
      "        \"FinalAutoMLJobObjectiveMetric\": {\n",
      "            \"MetricName\": \"validation:accuracy\",\n",
      "            \"Value\": 0.589169979095459\n",
      "        },\n",
      "        \"InferenceContainers\": [\n",
      "            {\n",
      "                \"Environment\": {\n",
      "                    \"AUTOML_SPARSE_ENCODE_RECORDIO_PROTOBUF\": \"1\",\n",
      "                    \"AUTOML_TRANSFORM_MODE\": \"feature-transform\",\n",
      "                    \"SAGEMAKER_DEFAULT_INVOCATIONS_ACCEPT\": \"application/x-recordio-protobuf\",\n",
      "                    \"SAGEMAKER_PROGRAM\": \"sagemaker_serve\",\n",
      "                    \"SAGEMAKER_SUBMIT_DIRECTORY\": \"/opt/ml/model/code\"\n",
      "                },\n",
      "                \"Image\": \"737474898029.dkr.ecr.sa-east-1.amazonaws.com/sagemaker-sklearn-automl:2.4-1-cpu-py3\",\n",
      "                \"ModelDataUrl\": \"s3://sagemaker-sa-east-1-164157948422/autopilot/automl-dm-1645921983/data-processor-models/automl-dm-1645921983-dpp0-1-e02d2d1bde284d0a8174e595b9eeb85dd0c/output/model.tar.gz\"\n",
      "            },\n",
      "            {\n",
      "                \"Environment\": {\n",
      "                    \"MAX_CONTENT_LENGTH\": \"20971520\",\n",
      "                    \"SAGEMAKER_DEFAULT_INVOCATIONS_ACCEPT\": \"text/csv\",\n",
      "                    \"SAGEMAKER_INFERENCE_OUTPUT\": \"predicted_label\",\n",
      "                    \"SAGEMAKER_INFERENCE_SUPPORTED\": \"predicted_label,probability,probabilities\"\n",
      "                },\n",
      "                \"Image\": \"737474898029.dkr.ecr.sa-east-1.amazonaws.com/sagemaker-xgboost:1.3-1-cpu-py3\",\n",
      "                \"ModelDataUrl\": \"s3://sagemaker-sa-east-1-164157948422/autopilot/automl-dm-1645921983/tuning/automl-dm--dpp0-xgb/automl-dm-1645921983r2bBKJ4tr41U-001-0a05ac3a/output/model.tar.gz\"\n",
      "            },\n",
      "            {\n",
      "                \"Environment\": {\n",
      "                    \"AUTOML_TRANSFORM_MODE\": \"inverse-label-transform\",\n",
      "                    \"SAGEMAKER_DEFAULT_INVOCATIONS_ACCEPT\": \"text/csv\",\n",
      "                    \"SAGEMAKER_INFERENCE_INPUT\": \"predicted_label\",\n",
      "                    \"SAGEMAKER_INFERENCE_OUTPUT\": \"predicted_label\",\n",
      "                    \"SAGEMAKER_INFERENCE_SUPPORTED\": \"predicted_label,probability,labels,probabilities\",\n",
      "                    \"SAGEMAKER_PROGRAM\": \"sagemaker_serve\",\n",
      "                    \"SAGEMAKER_SUBMIT_DIRECTORY\": \"/opt/ml/model/code\"\n",
      "                },\n",
      "                \"Image\": \"737474898029.dkr.ecr.sa-east-1.amazonaws.com/sagemaker-sklearn-automl:2.4-1-cpu-py3\",\n",
      "                \"ModelDataUrl\": \"s3://sagemaker-sa-east-1-164157948422/autopilot/automl-dm-1645921983/data-processor-models/automl-dm-1645921983-dpp0-1-e02d2d1bde284d0a8174e595b9eeb85dd0c/output/model.tar.gz\"\n",
      "            }\n",
      "        ],\n",
      "        \"LastModifiedTime\": \"2022-02-27 00:58:36.947000+00:00\",\n",
      "        \"ObjectiveStatus\": \"Succeeded\"\n",
      "    },\n",
      "    \"CreationTime\": \"2022-02-27 00:33:03.395000+00:00\",\n",
      "    \"GenerateCandidateDefinitionsOnly\": false,\n",
      "    \"InputDataConfig\": [\n",
      "        {\n",
      "            \"DataSource\": {\n",
      "                \"S3DataSource\": {\n",
      "                    \"S3DataType\": \"S3Prefix\",\n",
      "                    \"S3Uri\": \"s3://sagemaker-sa-east-1-164157948422/autopilot/data/womens_clothing_ecommerce_reviews_balanced_for_autopilot.csv\"\n",
      "                }\n",
      "            },\n",
      "            \"TargetAttributeName\": \"sentiment\"\n",
      "        }\n",
      "    ],\n",
      "    \"LastModifiedTime\": \"2022-02-27 00:58:37.695000+00:00\",\n",
      "    \"OutputDataConfig\": {\n",
      "        \"S3OutputPath\": \"s3://sagemaker-sa-east-1-164157948422/autopilot\"\n",
      "    },\n",
      "    \"ResolvedAttributes\": {\n",
      "        \"AutoMLJobObjective\": {\n",
      "            \"MetricName\": \"Accuracy\"\n",
      "        },\n",
      "        \"CompletionCriteria\": {\n",
      "            \"MaxAutoMLJobRuntimeInSeconds\": 7200,\n",
      "            \"MaxCandidates\": 3,\n",
      "            \"MaxRuntimePerTrainingJobInSeconds\": 1200\n",
      "        },\n",
      "        \"ProblemType\": \"MulticlassClassification\"\n",
      "    },\n",
      "    \"ResponseMetadata\": {\n",
      "        \"HTTPHeaders\": {\n",
      "            \"content-length\": \"5144\",\n",
      "            \"content-type\": \"application/x-amz-json-1.1\",\n",
      "            \"date\": \"Sun, 27 Feb 2022 00:58:36 GMT\",\n",
      "            \"x-amzn-requestid\": \"317e1267-f220-46de-b114-e44da9727bc4\"\n",
      "        },\n",
      "        \"HTTPStatusCode\": 200,\n",
      "        \"RequestId\": \"317e1267-f220-46de-b114-e44da9727bc4\",\n",
      "        \"RetryAttempts\": 0\n",
      "    },\n",
      "    \"RoleArn\": \"arn:aws:iam::164157948422:role/service-role/AmazonSageMaker-ExecutionRole-20220225T233545\"\n",
      "}\n",
      "CPU times: user 229 ms, sys: 29.5 ms, total: 258 ms\n",
      "Wall time: 5min 28s\n"
     ]
    }
   ],
   "source": [
    "%%time\n",
    "\n",
    "job_description_response = automl.describe_auto_ml_job(job_name=auto_ml_job_name)\n",
    "job_status = job_description_response['AutoMLJobStatus']\n",
    "job_sec_status = job_description_response['AutoMLJobSecondaryStatus']\n",
    "print(job_status)\n",
    "print(job_sec_status)\n",
    "if job_status not in ('Stopped', 'Failed'):\n",
    "    while job_status == 'InProgress' and job_sec_status == 'ModelTuning': # Replace all None\n",
    "        job_description_response = automl.describe_auto_ml_job(job_name=auto_ml_job_name)\n",
    "        job_status = job_description_response['AutoMLJobStatus']\n",
    "        job_sec_status = job_description_response['AutoMLJobSecondaryStatus']\n",
    "        print(job_status, job_sec_status)\n",
    "        time.sleep(5)\n",
    "    print('[OK] Model tuning phase completed.\\n')\n",
    "    \n",
    "# print(json.dumps(job_description_response, indent=4, sort_keys=True, default=str))"
   ]
  },
  {
   "cell_type": "code",
   "execution_count": 26,
   "metadata": {},
   "outputs": [
    {
     "name": "stdout",
     "output_type": "stream",
     "text": [
      "Job status:  InProgress\n",
      "Secondary job status:  GeneratingExplainabilityReport\n",
      "Job status:  InProgress\n",
      "Secondary job status:  GeneratingExplainabilityReport\n",
      "Job status:  InProgress\n",
      "Secondary job status:  GeneratingExplainabilityReport\n",
      "Job status:  InProgress\n",
      "Secondary job status:  GeneratingExplainabilityReport\n",
      "Job status:  InProgress\n",
      "Secondary job status:  GeneratingExplainabilityReport\n",
      "Job status:  InProgress\n",
      "Secondary job status:  GeneratingExplainabilityReport\n",
      "Job status:  InProgress\n",
      "Secondary job status:  GeneratingExplainabilityReport\n",
      "Job status:  InProgress\n",
      "Secondary job status:  GeneratingExplainabilityReport\n",
      "Job status:  InProgress\n",
      "Secondary job status:  GeneratingExplainabilityReport\n",
      "Job status:  InProgress\n",
      "Secondary job status:  GeneratingExplainabilityReport\n",
      "Job status:  InProgress\n",
      "Secondary job status:  GeneratingExplainabilityReport\n",
      "Job status:  InProgress\n",
      "Secondary job status:  GeneratingExplainabilityReport\n",
      "Job status:  InProgress\n",
      "Secondary job status:  GeneratingExplainabilityReport\n",
      "Job status:  InProgress\n",
      "Secondary job status:  GeneratingExplainabilityReport\n",
      "Job status:  InProgress\n",
      "Secondary job status:  GeneratingExplainabilityReport\n",
      "Job status:  InProgress\n",
      "Secondary job status:  GeneratingExplainabilityReport\n",
      "Job status:  InProgress\n",
      "Secondary job status:  GeneratingExplainabilityReport\n",
      "Job status:  InProgress\n",
      "Secondary job status:  GeneratingExplainabilityReport\n",
      "Job status:  InProgress\n",
      "Secondary job status:  GeneratingExplainabilityReport\n",
      "Job status:  InProgress\n",
      "Secondary job status:  GeneratingExplainabilityReport\n",
      "Job status:  InProgress\n",
      "Secondary job status:  GeneratingExplainabilityReport\n",
      "Job status:  InProgress\n",
      "Secondary job status:  GeneratingExplainabilityReport\n",
      "Job status:  InProgress\n",
      "Secondary job status:  GeneratingExplainabilityReport\n",
      "Job status:  InProgress\n",
      "Secondary job status:  GeneratingExplainabilityReport\n",
      "Job status:  InProgress\n",
      "Secondary job status:  GeneratingExplainabilityReport\n",
      "Job status:  InProgress\n",
      "Secondary job status:  GeneratingExplainabilityReport\n",
      "Job status:  InProgress\n",
      "Secondary job status:  GeneratingExplainabilityReport\n",
      "Job status:  InProgress\n",
      "Secondary job status:  GeneratingExplainabilityReport\n",
      "Job status:  InProgress\n",
      "Secondary job status:  GeneratingExplainabilityReport\n",
      "Job status:  InProgress\n",
      "Secondary job status:  GeneratingExplainabilityReport\n",
      "Job status:  InProgress\n",
      "Secondary job status:  GeneratingExplainabilityReport\n",
      "Job status:  InProgress\n",
      "Secondary job status:  GeneratingExplainabilityReport\n",
      "Job status:  InProgress\n",
      "Secondary job status:  GeneratingExplainabilityReport\n",
      "Job status:  InProgress\n",
      "Secondary job status:  GeneratingExplainabilityReport\n",
      "Job status:  InProgress\n",
      "Secondary job status:  GeneratingExplainabilityReport\n",
      "Job status:  InProgress\n",
      "Secondary job status:  GeneratingExplainabilityReport\n",
      "Job status:  InProgress\n",
      "Secondary job status:  GeneratingExplainabilityReport\n",
      "Job status:  InProgress\n",
      "Secondary job status:  GeneratingExplainabilityReport\n",
      "Job status:  InProgress\n",
      "Secondary job status:  GeneratingExplainabilityReport\n",
      "Job status:  InProgress\n",
      "Secondary job status:  GeneratingExplainabilityReport\n",
      "Job status:  InProgress\n",
      "Secondary job status:  GeneratingExplainabilityReport\n",
      "Job status:  InProgress\n",
      "Secondary job status:  GeneratingExplainabilityReport\n",
      "Job status:  InProgress\n",
      "Secondary job status:  GeneratingExplainabilityReport\n",
      "Job status:  InProgress\n",
      "Secondary job status:  GeneratingExplainabilityReport\n",
      "Job status:  InProgress\n",
      "Secondary job status:  GeneratingExplainabilityReport\n",
      "Job status:  InProgress\n",
      "Secondary job status:  GeneratingExplainabilityReport\n",
      "Job status:  InProgress\n",
      "Secondary job status:  GeneratingExplainabilityReport\n",
      "Job status:  InProgress\n",
      "Secondary job status:  GeneratingExplainabilityReport\n",
      "Job status:  InProgress\n",
      "Secondary job status:  GeneratingExplainabilityReport\n",
      "Job status:  InProgress\n",
      "Secondary job status:  GeneratingExplainabilityReport\n",
      "Job status:  InProgress\n",
      "Secondary job status:  GeneratingExplainabilityReport\n",
      "Job status:  InProgress\n",
      "Secondary job status:  GeneratingExplainabilityReport\n",
      "Job status:  InProgress\n",
      "Secondary job status:  GeneratingModelInsightsReport\n",
      "Job status:  InProgress\n",
      "Secondary job status:  GeneratingModelInsightsReport\n",
      "Job status:  InProgress\n",
      "Secondary job status:  GeneratingModelInsightsReport\n",
      "Job status:  InProgress\n",
      "Secondary job status:  GeneratingModelInsightsReport\n",
      "Job status:  InProgress\n",
      "Secondary job status:  GeneratingModelInsightsReport\n",
      "Job status:  InProgress\n",
      "Secondary job status:  GeneratingModelInsightsReport\n",
      "Job status:  InProgress\n",
      "Secondary job status:  GeneratingModelInsightsReport\n",
      "Job status:  InProgress\n",
      "Secondary job status:  GeneratingModelInsightsReport\n",
      "Job status:  InProgress\n",
      "Secondary job status:  GeneratingModelInsightsReport\n",
      "Job status:  InProgress\n",
      "Secondary job status:  GeneratingModelInsightsReport\n",
      "Job status:  InProgress\n",
      "Secondary job status:  GeneratingModelInsightsReport\n",
      "Job status:  InProgress\n",
      "Secondary job status:  GeneratingModelInsightsReport\n",
      "Job status:  InProgress\n",
      "Secondary job status:  GeneratingModelInsightsReport\n",
      "Job status:  InProgress\n",
      "Secondary job status:  GeneratingModelInsightsReport\n",
      "Job status:  InProgress\n",
      "Secondary job status:  GeneratingModelInsightsReport\n",
      "Job status:  InProgress\n",
      "Secondary job status:  GeneratingModelInsightsReport\n",
      "Job status:  InProgress\n",
      "Secondary job status:  GeneratingModelInsightsReport\n",
      "Job status:  InProgress\n",
      "Secondary job status:  GeneratingModelInsightsReport\n",
      "Job status:  InProgress\n",
      "Secondary job status:  GeneratingModelInsightsReport\n",
      "Job status:  InProgress\n",
      "Secondary job status:  GeneratingModelInsightsReport\n",
      "Job status:  InProgress\n",
      "Secondary job status:  GeneratingModelInsightsReport\n",
      "Job status:  InProgress\n",
      "Secondary job status:  GeneratingModelInsightsReport\n",
      "Job status:  InProgress\n",
      "Secondary job status:  GeneratingModelInsightsReport\n",
      "Job status:  InProgress\n",
      "Secondary job status:  GeneratingModelInsightsReport\n",
      "Job status:  InProgress\n",
      "Secondary job status:  GeneratingModelInsightsReport\n",
      "Job status:  InProgress\n",
      "Secondary job status:  GeneratingModelInsightsReport\n",
      "Job status:  InProgress\n",
      "Secondary job status:  GeneratingModelInsightsReport\n",
      "Job status:  InProgress\n",
      "Secondary job status:  GeneratingModelInsightsReport\n",
      "Job status:  InProgress\n",
      "Secondary job status:  GeneratingModelInsightsReport\n",
      "Job status:  InProgress\n",
      "Secondary job status:  GeneratingModelInsightsReport\n",
      "Job status:  InProgress\n",
      "Secondary job status:  GeneratingModelInsightsReport\n",
      "Job status:  InProgress\n",
      "Secondary job status:  GeneratingModelInsightsReport\n",
      "Job status:  InProgress\n",
      "Secondary job status:  GeneratingModelInsightsReport\n",
      "Job status:  InProgress\n",
      "Secondary job status:  GeneratingModelInsightsReport\n",
      "Job status:  InProgress\n",
      "Secondary job status:  GeneratingModelInsightsReport\n",
      "Job status:  InProgress\n",
      "Secondary job status:  GeneratingModelInsightsReport\n",
      "Job status:  InProgress\n",
      "Secondary job status:  GeneratingModelInsightsReport\n",
      "Job status:  InProgress\n",
      "Secondary job status:  GeneratingModelInsightsReport\n",
      "Job status:  InProgress\n",
      "Secondary job status:  GeneratingModelInsightsReport\n",
      "Job status:  InProgress\n",
      "Secondary job status:  GeneratingModelInsightsReport\n",
      "Job status:  InProgress\n",
      "Secondary job status:  GeneratingModelInsightsReport\n",
      "Job status:  InProgress\n",
      "Secondary job status:  GeneratingModelInsightsReport\n",
      "Job status:  InProgress\n",
      "Secondary job status:  GeneratingModelInsightsReport\n",
      "Job status:  InProgress\n",
      "Secondary job status:  GeneratingModelInsightsReport\n",
      "Job status:  InProgress\n",
      "Secondary job status:  GeneratingModelInsightsReport\n",
      "Job status:  InProgress\n",
      "Secondary job status:  GeneratingModelInsightsReport\n",
      "Job status:  InProgress\n",
      "Secondary job status:  GeneratingModelInsightsReport\n",
      "Job status:  InProgress\n",
      "Secondary job status:  GeneratingModelInsightsReport\n",
      "Job status:  InProgress\n",
      "Secondary job status:  GeneratingModelInsightsReport\n",
      "Job status:  InProgress\n",
      "Secondary job status:  GeneratingModelInsightsReport\n",
      "Job status:  Completed\n",
      "Secondary job status:  Completed\n",
      "[OK] Autopilot job completed.\n",
      "\n",
      "CPU times: user 1.24 s, sys: 60.1 ms, total: 1.3 s\n",
      "Wall time: 17min 9s\n"
     ]
    }
   ],
   "source": [
    "%%time\n",
    "\n",
    "from pprint import pprint\n",
    "\n",
    "job_description_response = automl.describe_auto_ml_job(job_name=auto_ml_job_name)\n",
    "# print(job_description_response)\n",
    "job_status = job_description_response['AutoMLJobStatus']\n",
    "job_sec_status = job_description_response['AutoMLJobSecondaryStatus']\n",
    "print('Job status:  {}'.format(job_status))\n",
    "print('Secondary job status:  {}'.format(job_sec_status))\n",
    "if job_status not in ('Stopped', 'Failed'):\n",
    "    while job_status not in ('Completed'):\n",
    "        job_description_response = automl.describe_auto_ml_job(job_name=auto_ml_job_name)\n",
    "        job_status = job_description_response['AutoMLJobStatus']\n",
    "        job_sec_status = job_description_response['AutoMLJobSecondaryStatus']\n",
    "        print('Job status:  {}'.format(job_status))\n",
    "        print('Secondary job status:  {}'.format(job_sec_status))        \n",
    "        time.sleep(10)\n",
    "    print('[OK] Autopilot job completed.\\n')\n",
    "else:\n",
    "    print('Job status: {}'.format(job_status))\n",
    "    print('Secondary job status: {}'.format(job_status))"
   ]
  },
  {
   "cell_type": "code",
   "execution_count": 27,
   "metadata": {},
   "outputs": [],
   "source": [
    "candidates = automl.list_candidates(\n",
    "    job_name=auto_ml_job_name, \n",
    "    sort_by='FinalObjectiveMetricValue' \n",
    ")"
   ]
  },
  {
   "cell_type": "code",
   "execution_count": 29,
   "metadata": {},
   "outputs": [
    {
     "name": "stdout",
     "output_type": "stream",
     "text": [
      "[OK] Candidates generated.\n"
     ]
    }
   ],
   "source": [
    "while candidates == []:\n",
    "    candidates = automl.list_candidates(job_name=auto_ml_job_name)\n",
    "    print('[INFO] Autopilot job is generating the candidates. Please wait.')\n",
    "    time.sleep(10)\n",
    "\n",
    "print('[OK] Candidates generated.') "
   ]
  },
  {
   "cell_type": "code",
   "execution_count": 30,
   "metadata": {},
   "outputs": [
    {
     "name": "stdout",
     "output_type": "stream",
     "text": [
      "dict_keys(['CandidateName', 'FinalAutoMLJobObjectiveMetric', 'ObjectiveStatus', 'CandidateSteps', 'CandidateStatus', 'InferenceContainers', 'CreationTime', 'EndTime', 'LastModifiedTime', 'CandidateProperties'])\n"
     ]
    }
   ],
   "source": [
    "print(candidates[0].keys())"
   ]
  },
  {
   "cell_type": "code",
   "execution_count": 31,
   "metadata": {},
   "outputs": [
    {
     "name": "stdout",
     "output_type": "stream",
     "text": [
      "[OK] CandidateName generated.\n"
     ]
    }
   ],
   "source": [
    "while 'CandidateName' not in candidates[0]:\n",
    "    candidates = automl.list_candidates(job_name=auto_ml_job_name)\n",
    "    print('[INFO] Autopilot job is generating CandidateName. Please wait. ')\n",
    "    sleep(10)\n",
    "\n",
    "print('[OK] CandidateName generated.')"
   ]
  },
  {
   "cell_type": "code",
   "execution_count": 32,
   "metadata": {},
   "outputs": [
    {
     "name": "stdout",
     "output_type": "stream",
     "text": [
      "[OK] FinalAutoMLJobObjectiveMetric generated.\n"
     ]
    }
   ],
   "source": [
    "while 'FinalAutoMLJobObjectiveMetric' not in candidates[0]:\n",
    "    candidates = automl.list_candidates(job_name=auto_ml_job_name)\n",
    "    print('[INFO] Autopilot job is generating FinalAutoMLJobObjectiveMetric. Please wait. ')\n",
    "    sleep(10)\n",
    "\n",
    "print('[OK] FinalAutoMLJobObjectiveMetric generated.')"
   ]
  },
  {
   "cell_type": "code",
   "execution_count": 101,
   "metadata": {
    "scrolled": true
   },
   "outputs": [],
   "source": [
    "# print(json.dumps(candidates, indent=4, sort_keys=True, default=str))"
   ]
  },
  {
   "cell_type": "code",
   "execution_count": 34,
   "metadata": {},
   "outputs": [
    {
     "name": "stdout",
     "output_type": "stream",
     "text": [
      "metric validation:accuracy\n",
      "0  automl-dm-1645921983r2bBKJ4tr41U-001-0a05ac3a  0.589169979095459\n",
      "1  automl-dm-1645921983r2bBKJ4tr41U-003-1e25563c  0.571590006351471\n",
      "2  automl-dm-1645921983r2bBKJ4tr41U-002-bb418283  0.5698999762535095\n"
     ]
    }
   ],
   "source": [
    "print(\"metric \" + str(candidates[0]['FinalAutoMLJobObjectiveMetric']['MetricName']))\n",
    "\n",
    "for index, candidate in enumerate(candidates):\n",
    "    print(str(index) + \"  \" \n",
    "        + candidate['CandidateName'] + \"  \" \n",
    "        + str(candidate['FinalAutoMLJobObjectiveMetric']['Value']))"
   ]
  },
  {
   "cell_type": "code",
   "execution_count": 36,
   "metadata": {},
   "outputs": [
    {
     "name": "stdout",
     "output_type": "stream",
     "text": [
      "{\n",
      "    \"CandidateName\": \"automl-dm-1645921983r2bBKJ4tr41U-001-0a05ac3a\",\n",
      "    \"CandidateProperties\": {\n",
      "        \"CandidateArtifactLocations\": {\n",
      "            \"Explainability\": \"s3://sagemaker-sa-east-1-164157948422/autopilot/automl-dm-1645921983/documentation/explainability/output\"\n",
      "        },\n",
      "        \"CandidateMetrics\": [\n",
      "            {\n",
      "                \"MetricName\": \"Accuracy\",\n",
      "                \"Set\": \"Validation\",\n",
      "                \"Value\": 0.589169979095459\n",
      "            },\n",
      "            {\n",
      "                \"MetricName\": \"F1macro\",\n",
      "                \"Set\": \"Validation\",\n",
      "                \"Value\": 0.5858299732208252\n",
      "            }\n",
      "        ]\n",
      "    },\n",
      "    \"CandidateStatus\": \"Completed\",\n",
      "    \"CandidateSteps\": [\n",
      "        {\n",
      "            \"CandidateStepArn\": \"arn:aws:sagemaker:sa-east-1:164157948422:processing-job/automl-dm-1645921983-db-1-6d3b74fad25a4893979d63ccb504e5409e9b1\",\n",
      "            \"CandidateStepName\": \"automl-dm-1645921983-db-1-6d3b74fad25a4893979d63ccb504e5409e9b1\",\n",
      "            \"CandidateStepType\": \"AWS::SageMaker::ProcessingJob\"\n",
      "        },\n",
      "        {\n",
      "            \"CandidateStepArn\": \"arn:aws:sagemaker:sa-east-1:164157948422:training-job/automl-dm-1645921983-dpp0-1-e02d2d1bde284d0a8174e595b9eeb85dd0c\",\n",
      "            \"CandidateStepName\": \"automl-dm-1645921983-dpp0-1-e02d2d1bde284d0a8174e595b9eeb85dd0c\",\n",
      "            \"CandidateStepType\": \"AWS::SageMaker::TrainingJob\"\n",
      "        },\n",
      "        {\n",
      "            \"CandidateStepArn\": \"arn:aws:sagemaker:sa-east-1:164157948422:transform-job/automl-dm-1645921983-dpp0-rpb-1-8757fc2afdb74b6595c973a7a2d9d59\",\n",
      "            \"CandidateStepName\": \"automl-dm-1645921983-dpp0-rpb-1-8757fc2afdb74b6595c973a7a2d9d59\",\n",
      "            \"CandidateStepType\": \"AWS::SageMaker::TransformJob\"\n",
      "        },\n",
      "        {\n",
      "            \"CandidateStepArn\": \"arn:aws:sagemaker:sa-east-1:164157948422:training-job/automl-dm-1645921983r2bbkj4tr41u-001-0a05ac3a\",\n",
      "            \"CandidateStepName\": \"automl-dm-1645921983r2bBKJ4tr41U-001-0a05ac3a\",\n",
      "            \"CandidateStepType\": \"AWS::SageMaker::TrainingJob\"\n",
      "        }\n",
      "    ],\n",
      "    \"CreationTime\": \"2022-02-27 00:55:38+00:00\",\n",
      "    \"EndTime\": \"2022-02-27 00:56:54+00:00\",\n",
      "    \"FinalAutoMLJobObjectiveMetric\": {\n",
      "        \"MetricName\": \"validation:accuracy\",\n",
      "        \"Value\": 0.589169979095459\n",
      "    },\n",
      "    \"InferenceContainers\": [\n",
      "        {\n",
      "            \"Environment\": {\n",
      "                \"AUTOML_SPARSE_ENCODE_RECORDIO_PROTOBUF\": \"1\",\n",
      "                \"AUTOML_TRANSFORM_MODE\": \"feature-transform\",\n",
      "                \"SAGEMAKER_DEFAULT_INVOCATIONS_ACCEPT\": \"application/x-recordio-protobuf\",\n",
      "                \"SAGEMAKER_PROGRAM\": \"sagemaker_serve\",\n",
      "                \"SAGEMAKER_SUBMIT_DIRECTORY\": \"/opt/ml/model/code\"\n",
      "            },\n",
      "            \"Image\": \"737474898029.dkr.ecr.sa-east-1.amazonaws.com/sagemaker-sklearn-automl:2.4-1-cpu-py3\",\n",
      "            \"ModelDataUrl\": \"s3://sagemaker-sa-east-1-164157948422/autopilot/automl-dm-1645921983/data-processor-models/automl-dm-1645921983-dpp0-1-e02d2d1bde284d0a8174e595b9eeb85dd0c/output/model.tar.gz\"\n",
      "        },\n",
      "        {\n",
      "            \"Environment\": {\n",
      "                \"MAX_CONTENT_LENGTH\": \"20971520\",\n",
      "                \"SAGEMAKER_DEFAULT_INVOCATIONS_ACCEPT\": \"text/csv\",\n",
      "                \"SAGEMAKER_INFERENCE_OUTPUT\": \"predicted_label\",\n",
      "                \"SAGEMAKER_INFERENCE_SUPPORTED\": \"predicted_label,probability,probabilities\"\n",
      "            },\n",
      "            \"Image\": \"737474898029.dkr.ecr.sa-east-1.amazonaws.com/sagemaker-xgboost:1.3-1-cpu-py3\",\n",
      "            \"ModelDataUrl\": \"s3://sagemaker-sa-east-1-164157948422/autopilot/automl-dm-1645921983/tuning/automl-dm--dpp0-xgb/automl-dm-1645921983r2bBKJ4tr41U-001-0a05ac3a/output/model.tar.gz\"\n",
      "        },\n",
      "        {\n",
      "            \"Environment\": {\n",
      "                \"AUTOML_TRANSFORM_MODE\": \"inverse-label-transform\",\n",
      "                \"SAGEMAKER_DEFAULT_INVOCATIONS_ACCEPT\": \"text/csv\",\n",
      "                \"SAGEMAKER_INFERENCE_INPUT\": \"predicted_label\",\n",
      "                \"SAGEMAKER_INFERENCE_OUTPUT\": \"predicted_label\",\n",
      "                \"SAGEMAKER_INFERENCE_SUPPORTED\": \"predicted_label,probability,labels,probabilities\",\n",
      "                \"SAGEMAKER_PROGRAM\": \"sagemaker_serve\",\n",
      "                \"SAGEMAKER_SUBMIT_DIRECTORY\": \"/opt/ml/model/code\"\n",
      "            },\n",
      "            \"Image\": \"737474898029.dkr.ecr.sa-east-1.amazonaws.com/sagemaker-sklearn-automl:2.4-1-cpu-py3\",\n",
      "            \"ModelDataUrl\": \"s3://sagemaker-sa-east-1-164157948422/autopilot/automl-dm-1645921983/data-processor-models/automl-dm-1645921983-dpp0-1-e02d2d1bde284d0a8174e595b9eeb85dd0c/output/model.tar.gz\"\n",
      "        }\n",
      "    ],\n",
      "    \"LastModifiedTime\": \"2022-02-27 00:58:36.947000+00:00\",\n",
      "    \"ObjectiveStatus\": \"Succeeded\"\n",
      "}\n"
     ]
    }
   ],
   "source": [
    "candidates = automl.list_candidates(job_name=auto_ml_job_name)\n",
    "\n",
    "if candidates != []:\n",
    "    best_candidate = automl.best_candidate(job_name = auto_ml_job_name )\n",
    "    print(json.dumps(best_candidate, indent=4, sort_keys=True, default=str))"
   ]
  },
  {
   "cell_type": "code",
   "execution_count": 37,
   "metadata": {},
   "outputs": [
    {
     "name": "stdout",
     "output_type": "stream",
     "text": [
      "[OK] BestCandidate CandidateName generated.\n"
     ]
    }
   ],
   "source": [
    "while 'CandidateName' not in best_candidate:\n",
    "    best_candidate = automl.best_candidate(job_name=auto_ml_job_name)\n",
    "    print('[INFO] Autopilot Job is generating BestCandidate CandidateName. Please wait. ')\n",
    "    print(json.dumps(best_candidate, indent=4, sort_keys=True, default=str))\n",
    "    sleep(10)\n",
    "\n",
    "print('[OK] BestCandidate CandidateName generated.')  "
   ]
  },
  {
   "cell_type": "code",
   "execution_count": 38,
   "metadata": {},
   "outputs": [
    {
     "name": "stdout",
     "output_type": "stream",
     "text": [
      "[OK] BestCandidate FinalAutoMLJobObjectiveMetric generated.\n"
     ]
    }
   ],
   "source": [
    "while 'FinalAutoMLJobObjectiveMetric' not in best_candidate:\n",
    "    best_candidate = automl.best_candidate(job_name=auto_ml_job_name)\n",
    "    print('[INFO] Autopilot Job is generating BestCandidate FinalAutoMLJobObjectiveMetric. Please wait. ')\n",
    "    print(json.dumps(best_candidate, indent=4, sort_keys=True, default=str))\n",
    "    sleep(10)\n",
    "\n",
    "print('[OK] BestCandidate FinalAutoMLJobObjectiveMetric generated.')  "
   ]
  },
  {
   "cell_type": "code",
   "execution_count": 39,
   "metadata": {},
   "outputs": [
    {
     "name": "stdout",
     "output_type": "stream",
     "text": [
      "Candidate name: automl-dm-1645921983r2bBKJ4tr41U-001-0a05ac3a\n",
      "Metric name: validation:accuracy\n",
      "Metric value: 0.589169979095459\n"
     ]
    }
   ],
   "source": [
    "best_candidate_identifier = best_candidate['CandidateName']\n",
    "print(\"Candidate name: \" + best_candidate_identifier)\n",
    "print(\"Metric name: \" + best_candidate['FinalAutoMLJobObjectiveMetric']['MetricName'])\n",
    "print(\"Metric value: \" + str(best_candidate['FinalAutoMLJobObjectiveMetric']['Value']))"
   ]
  },
  {
   "cell_type": "code",
   "execution_count": 41,
   "metadata": {},
   "outputs": [],
   "source": [
    "inference_response_keys = ['predicted_label', 'probability']"
   ]
  },
  {
   "cell_type": "code",
   "execution_count": 48,
   "metadata": {},
   "outputs": [
    {
     "name": "stdout",
     "output_type": "stream",
     "text": [
      "---------------!\n",
      "Endpoint name:  sagemaker-sklearn-automl-2022-02-27-01-24-27-327\n"
     ]
    }
   ],
   "source": [
    "autopilot_model = automl.deploy(\n",
    "    initial_instance_count=1,\n",
    "    instance_type='ml.m5.large',\n",
    "    candidate=best_candidate,\n",
    "    inference_response_keys=inference_response_keys,\n",
    "    predictor_cls=sagemaker.predictor.Predictor,\n",
    "    serializer=sagemaker.serializers.JSONSerializer(),\n",
    "    deserializer=sagemaker.deserializers.JSONDeserializer()\n",
    ")\n",
    "\n",
    "print('\\nEndpoint name:  {}'.format(autopilot_model.endpoint_name))"
   ]
  },
  {
   "cell_type": "code",
   "execution_count": 56,
   "metadata": {},
   "outputs": [
    {
     "name": "stdout",
     "output_type": "stream",
     "text": [
      "Review:  This product is !  Predicated class: -1\n",
      "Review:  OK but not great.  Predicated class: 1\n",
      "Review:  This is not the right product.  Predicated class: -1\n",
      "(-1 = Negative, 0=Neutral, 1=Positive)\n"
     ]
    }
   ],
   "source": [
    "review_list = ['This product is !',\n",
    "               'OK, but not great.',\n",
    "               'This is not the right product.']\n",
    "\n",
    "for review in review_list:\n",
    "    \n",
    "    review = review.replace(\",\", \"\")\n",
    "\n",
    "    response = sm_runtime.invoke_endpoint(\n",
    "        EndpointName=autopilot_model.endpoint_name, \n",
    "        ContentType='text/csv', \n",
    "        Accept='text/csv', \n",
    "        Body=review \n",
    "        )\n",
    "\n",
    "    response_body=response['Body'].read().decode('utf-8').strip().split(',')\n",
    "\n",
    "    print('Review: ', review, ' Predicated class: {}'.format(response_body[0]))\n",
    "\n",
    "print(\"(-1 = Negative, 0=Neutral, 1=Positive)\")"
   ]
  }
 ],
 "metadata": {
  "instance_type": "ml.t3.medium",
  "kernelspec": {
   "display_name": "Python 3 (Data Science)",
   "language": "python",
   "name": "python3__SAGEMAKER_INTERNAL__arn:aws:sagemaker:sa-east-1:782484402741:image/datascience-1.0"
  },
  "language_info": {
   "codemirror_mode": {
    "name": "ipython",
    "version": 3
   },
   "file_extension": ".py",
   "mimetype": "text/x-python",
   "name": "python",
   "nbconvert_exporter": "python",
   "pygments_lexer": "ipython3",
   "version": "3.7.10"
  }
 },
 "nbformat": 4,
 "nbformat_minor": 4
}
